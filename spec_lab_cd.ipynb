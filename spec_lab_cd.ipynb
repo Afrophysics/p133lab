{
 "cells": [
  {
   "cell_type": "markdown",
   "metadata": {
    "collapsed": true
   },
   "source": [
    "# Spectral Observations for Helium\n",
    "\n",
    "We are tasked to determine the Rydberg constant used to derive the spectral lines for Hydrogen emission. In order to do so we shall use a Spencer Spectromoter and an emission tube in order to observe, measure and analyze the spectral lines of Helium and Hydrogen. The derivation process is as follows:\n",
    "- Using the Helium spectral line measurements and assuming that the literature provided for the wavelengths of the observed helium emission is significantly accurate, determine the grating scale of the diffractive grating for which you are using in this experiment.\n",
    "- Using the calculated grating scale and the Hydrogen spectral line observations determine the Rydberg constant\n",
    "From elementary knowledge of optics we know that the grating scale $d$ and the observed mean angle relative from the normal of the refractive gratine $\\theta$ are related to the observed wavelength $\\lambda$ and order of the spectral line $m$ as:\n",
    "$$m \\lambda = d \\sin(\\theta)$$\n",
    "Now we may account for the uncertainty in our measurements due to the interaction of light with the diffractive grating by adding a second order term: $\\left(\\frac{\\sin(\\Delta)}{\\cos(\\Delta) - \\cos(\\theta)}\\right)^2$ where $\\Delta$ is the difference in the observed angles for a diffracted spectral line.\n",
    "$$m \\lambda = d \\left( 1 + \\left(\\frac{\\sin(\\Delta)}{\\cos(\\Delta) - \\cos(\\theta)}\\right)^2\\right)\\sin(\\theta)\\\\\n",
    " d = \\frac{\\lambda}{\\left( 1 + \\left(\\frac{\\sin(\\Delta)}{\\cos(\\Delta) - \\cos(\\theta)}\\right)^2\\right)\\sin(\\theta)}$$"
   ]
  },
  {
   "cell_type": "markdown",
   "metadata": {},
   "source": [
    "In order to accurately measure the wavelength of a light ray we must account for the phenomena of diffraction. The relation between the diffraction angle $\\theta$ and the separation width of the diffraction grating, also known as the diffraction constant $d$ can be explained with a wave equation. Looking back at introductory optics and a section on diffraction, we may recall that by accounting for only interference, the intensity of a diffracted ray of light with wavelength $\\lambda$ can be calculated as such:\n",
    "$$I = I_o \\frac{\\sin^2(N \\frac{\\psi}{2})}{\\sin^2(\\frac{\\psi}{2})}\\\\\n",
    "\\psi = \\frac{2 \\pi d}{\\lambda}\\sin(\\theta)$$\n",
    "where N is the number of slits contained in the diffraction grating and $d$ is the grating constant. It is helpful to look at an intensity plot such as the one below where the intensity was calculated for an incoming light ray with a wavelength of 400 nm being diffracted by a diffraction grating containing 5 slits with a slit separation of $3.38X10^{-3}$ mm. Notice that each maximum peak of the intensity plot is located at $\\theta_{\\text{max}} = \\arcsin(\\frac{m \\lambda}{d}), \\forall m \\in \\mathbb{Z}$. Note also that the collimator for the Spencer Spectrometer uses a single slit which experiences diffraction from it's aperture in order to collimate light rays to run parallel with one-another, yet in this case diffraction contributes a negligible uncertainty to observations."
   ]
  },
  {
   "cell_type": "code",
   "execution_count": 9,
   "metadata": {},
   "outputs": [
    {
     "name": "stdout",
     "output_type": "stream",
     "text": [
      "The wavelength used here is 4.000e-07 m with an inital intensity of 100\n"
     ]
    },
    {
     "data": {
      "image/png": "[encoded data removed]",
      "text/plain": [
       "<matplotlib.figure.Figure at 0x1bfd9a390b8>"
      ]
     },
     "metadata": {},
     "output_type": "display_data"
    },
    {
     "name": "stdout",
     "output_type": "stream",
     "text": [
      "There are 5 slits in the grating seperated by 3.378e-06 m\n",
      "The ratio between the wavelength and grating seperation (lambda/d) is 1.184e-01\n"
     ]
    }
   ],
   "source": [
    "#%matplotlib notebook\n",
    "%matplotlib inline\n",
    "import numpy as np\n",
    "import matplotlib.pyplot as plt\n",
    "from mpl_toolkits.mplot3d import axes3d\n",
    "\n",
    "\n",
    "b = (1/296)*(1e-3)\n",
    "N = 5\n",
    "I_o = 100\n",
    "#waveln = np.linspace(4, 8, 80)\n",
    "lm = 4e-7\n",
    "print('The wavelength used here is %.3e m with an inital intensity of %s'%(lm, I_o))\n",
    "sep = lm/b\n",
    "dif_ang = np.linspace(-0.1*np.pi, 0.1*np.pi, 600)\n",
    "#lm, thet = np.meshgrid(waveln*(1e-7), dif_ang)\n",
    "#delta = (2*np.pi/lm)*np.sin(thet)*b\n",
    "delta = (2*np.pi/lm)*np.sin(dif_ang)*b\n",
    "#Ints = I_o * ((np.sin(N*delta/2)/(delta/2))**2)\n",
    "Ints = I_o * ((np.sin(N*delta/2)/np.sin(delta/2))**2)\n",
    "\n",
    "plt.plot(dif_ang/sep, Ints)\n",
    "plt.title('Intensity of Diffracted rays')\n",
    "plt.xlabel(r'$m = \\frac{\\theta d}{\\lambda}$(radians)')\n",
    "plt.ylabel('Intensity')\n",
    "#fig = plt.figure()\n",
    "#ax = fig.gca(projection='3d')\n",
    "#ax.plot_wireframe(lm, thet, Ints, rstride=10, cstride=10)\n",
    "plt.show()\n",
    "\n",
    "print('There are %s slits in the grating seperated by %.3e m'%(N, b))\n",
    "print('The ratio between the wavelength and grating seperation (lambda/d) is %.3e'%sep)"
   ]
  },
  {
   "cell_type": "code",
   "execution_count": 1,
   "metadata": {},
   "outputs": [
    {
     "name": "stdout",
     "output_type": "stream",
     "text": [
      "C:\\Users\\rey\\Documents\n"
     ]
    }
   ],
   "source": [
    "#This is where you call in the directory of where the files containing the data in the form of txt or csv are located\n",
    "\n",
    "cd Documents"
   ]
  },
  {
   "cell_type": "code",
   "execution_count": 2,
   "metadata": {
    "collapsed": true
   },
   "outputs": [],
   "source": [
    "import numpy as np\n",
    "\n",
    "#open and read your text file to convert data into arrays\n",
    "angles = np.loadtxt('helium_spectra_jj.txt')\n",
    "rt_ang = np.empty(len(angles))\n",
    "lt_ang = np.empty(len(angles))\n",
    "m = np.empty(len(angles))\n",
    "ref = np.empty(len(angles))\n",
    "\n",
    "#build arrays\n",
    "for s in range(len(angles)):\n",
    "    rt_ang[s] = angles[s][0]\n",
    "    lt_ang[s] = angles[s][1]\n",
    "    m[s] = angles[s][2]\n",
    "    ref[s] = angles[s][3]\n",
    "\n",
    "#calculate the relative thetas and the delts for the second order approximation equation\n",
    "#ref = np.repeat(180.0, len(angles)) + (dis/60)\n",
    "th1 = abs(lt_ang - ref)\n",
    "th2 = abs(ref - rt_ang)\n",
    "th = 0.5*(th1 + th2)\n",
    "delta = 0.5*(th1 - th2)\n",
    "\n",
    "#convert degrees to radians\n",
    "def arg(theta):\n",
    "    return theta*np.pi/180\n",
    "\n",
    "#array of known wavelengths correlated to data arrays previously built on top, note that \n",
    "#the wavelengths repeat in order to accomadate for m =2 observations\n",
    "wavelnt = np.array([4026.19, 4471.97, 5015.678, 5047.74, 5411.52, 5875.97, 6678.15, 7065.19, 4026.19, 4471.97, 5015.678, 5047.74, 5411.52, 5875.97, 6678.15])\n",
    "\n",
    "#calculate the diffraction grating constant for each observed spec line using the second order correction.\n",
    "x1 = np.cos(arg(th))\n",
    "x2 = np.cos(arg(delta))\n",
    "y1 = np.sin(arg(th))\n",
    "y2 = np.sin(arg(delta))\n",
    "\n",
    "dif_grat = m*(wavelnt*(1E-10))/((1 + ((y2/(x2-x1))**2))*y1)\n"
   ]
  },
  {
   "cell_type": "code",
   "execution_count": 12,
   "metadata": {},
   "outputs": [
    {
     "data": {
      "text/plain": [
       "array([  2.73231208e-06,   3.05175866e-06,   3.26271709e-06,\n",
       "         3.29597318e-06,   3.49039602e-06,   3.28620632e-06,\n",
       "         3.34011546e-06,   3.33089760e-06,   2.77651546e-06,\n",
       "         2.93847846e-06,   3.27094548e-06,   3.22998645e-06,\n",
       "         3.39887594e-06,   3.27333140e-06,   3.31257016e-06])"
      ]
     },
     "execution_count": 12,
     "metadata": {},
     "output_type": "execute_result"
    }
   ],
   "source": [
    "dif_grat"
   ]
  },
  {
   "cell_type": "code",
   "execution_count": 3,
   "metadata": {},
   "outputs": [
    {
     "name": "stdout",
     "output_type": "stream",
     "text": [
      "The differaction grating spacing is 3.199e-06 +- 2.150e-07\n"
     ]
    }
   ],
   "source": [
    "#Note that this is not the weighted average\n",
    "print('The differaction grating spacing is %.3e +- %.3e'%(np.mean(dif_grat), np.std(dif_grat)))"
   ]
  },
  {
   "cell_type": "code",
   "execution_count": 7,
   "metadata": {},
   "outputs": [
    {
     "name": "stdout",
     "output_type": "stream",
     "text": [
      "All wavelength calculations: [  4.50263788e-07   4.96915713e-07   6.61852194e-07   4.35238530e-07\n",
      "   4.85369220e-07   6.56143122e-07]\n",
      "All proportionality constant calculations:  [ 10575811.09299145  10732873.18602842  10878561.80273448\n",
      "  10940908.09617697  10988198.49038946  10973215.68578285]\n",
      "The average Rydberg constant calculated was 10848261.392 + 139937.098 - 272450.299, with the weighted mean being 10943290.376 +- 7.426e-09\n"
     ]
    }
   ],
   "source": [
    "#read and build arrays for the hydrogen spectral line observations\n",
    "h_angl = np.loadtxt('hydro_spectra_jj.txt')\n",
    "\n",
    "rt_ang = np.empty(len(h_angl))\n",
    "lt_ang = np.empty(len(h_angl))\n",
    "m = np.empty(len(h_angl))\n",
    "rt_ref = np.empty(len(h_angl))\n",
    "lt_ref = np.empty(len(h_angl))\n",
    "sig_th = np.empty(len(h_angl))\n",
    "\n",
    "for s in range(len(h_angl)):\n",
    "    rt_ang[s] = h_angl[s][0]\n",
    "    lt_ang[s] = h_angl[s][1]\n",
    "    m[s] = h_angl[s][2]\n",
    "    rt_ref[s] = h_angl[s][3]\n",
    "    lt_ref[s] = h_angl[s][4]\n",
    "    sig_th[s] = h_angl[s][5]\n",
    "\n",
    "#Second order calculation for the wavelength\n",
    "th1 = abs(lt_ang - lt_ref)\n",
    "th2 = abs(rt_ref - rt_ang)\n",
    "th = 0.5*(th1 + th2)\n",
    "delta = 0.5*(th1 - th2)\n",
    "#d = np.mean(dif_grat)\n",
    "d= 3.37469E-06\n",
    "\n",
    "x1 = np.cos(arg(th))\n",
    "x2 = np.cos(arg(delta))\n",
    "y1 = np.sin(arg(th))\n",
    "y2 = np.sin(arg(delta))\n",
    "tn = x1/y1\n",
    "\n",
    "lamb = d*((1 + ((y2/(x2-x1))**2))*y1)/m\n",
    "\n",
    "print('All wavelength calculations: %s'%lamb)\n",
    "n = np.array([5, 4, 3, 5, 4, 3])\n",
    "n_trans = np.empty(len(h_angl))\n",
    "\n",
    "for s in range(len(h_angl)):\n",
    "    n_trans[s] = - (1/n[s])**2 + (1/2)**2\n",
    "\n",
    "#Rydberg constant calculations\n",
    "R = 1/(lamb * n_trans)\n",
    "top_R = max(R) - np.mean(R)\n",
    "bot_R = np.mean(R) - min(R)\n",
    "sig_R = (m * sig_th * (1/tn) * (1/y1))/(d*n_trans)\n",
    "sig_y = sig_th/(d *tn*y1)\n",
    "\n",
    "#Weighted calculations:\n",
    "weights = 1/(sig_R**2)\n",
    "w_r = R*weights\n",
    "a1 = sum(w_r)\n",
    "a2 = sum(weights)\n",
    "w_mean = a1/a2\n",
    "\n",
    "\n",
    "print('All proportionality constant calculations: ',R)\n",
    "print('The average Rydberg constant calculated was %.3f + %.3f - %.3f, with the weighted mean being %.3f +- %.3e'%(np.mean(R), top_R, bot_R, w_mean, a2))"
   ]
  },
  {
   "cell_type": "markdown",
   "metadata": {},
   "source": [
    "It is also possible to use the linear relation of the measured wavelength and energy levels with the following equation:\n",
    "$$\\frac{1}{m\\lambda} = R_H\\frac{\\left(\\frac{1}{4} - \\frac{1}{n^2}\\right)}{m}$$\n",
    "in order to estimate the rydberg constant using a linear fit program to calculate the constant as a slope."
   ]
  },
  {
   "cell_type": "code",
   "execution_count": 15,
   "metadata": {},
   "outputs": [
    {
     "name": "stdout",
     "output_type": "stream",
     "text": [
      "x data points: [ 0.21        0.1875      0.13888889  0.105       0.09375     0.06944444]\n",
      "y data points: [ 2303316.27163451  2036490.84585152  1512274.82017271  1150527.73279742\n",
      "  1030192.05347482   762039.20036419]\n",
      "y-error data points: [ 10790.23873741  11437.77063863  10912.10494822  37510.84203307\n",
      "   3938.45731763    893.43555225]\n",
      "results\n",
      "slope = 10902068.609 +/- 54071.941\n",
      "intercept = 5046.414 +/- 4021.277\n",
      "Part (b) complete\n",
      "\n",
      "Part (c) we shall plot our results\n"
     ]
    },
    {
     "data": {
      "image/png": "[encoded data removed]",
      "text/plain": [
       "<matplotlib.figure.Figure at 0x1bfd96cb208>"
      ]
     },
     "metadata": {},
     "output_type": "display_data"
    },
    {
     "name": "stdout",
     "output_type": "stream",
     "text": [
      "Problem 2 complete\n"
     ]
    }
   ],
   "source": [
    "#Expectation value of the nth-power of the x-array weighted by the inverse of the y-variance\n",
    "def u(x, sig, n):\n",
    "    tp = x**n\n",
    "    bt = sig**2\n",
    "    ary = tp/bt\n",
    "    return np.sum(ary)\n",
    "\n",
    "#Expectation value of the inner product between the the nth-power of the x-array and the y-array weighted by the inverse of the y-variance\n",
    "def w(x, y, sig, n):\n",
    "    tp = y*(x**n)\n",
    "    bt = sig**2\n",
    "    ary = tp/bt\n",
    "    return np.sum(ary)\n",
    "    \n",
    "#Linear-fit algorithm using least-squares method\n",
    "def linfit(x_data, y_data, y_error):\n",
    "    u_0 = u(x_data, y_error, 0)\n",
    "    u_1 = u(x_data, y_error, 1)\n",
    "    u_2 = u(x_data, y_error, 2)\n",
    "    \n",
    "    w_0 = w(x_data, y_data, y_error, 0)\n",
    "    w_1 = w(x_data, y_data, y_error, 1)\n",
    "    w_2 = w(x_data, y_data, y_error, 2)\n",
    "    \n",
    "    D = (u_0 * u_2) - (u_1 ** 2)\n",
    "    stnd_1 = (u_0 * w_1) - (w_0 * u_1)\n",
    "    stnd_2 = (u_2 * w_0) - (w_1 * u_1)\n",
    "    \n",
    "    slope = stnd_1/D\n",
    "    var_sl = u_0/D\n",
    "    \n",
    "    y_intr = stnd_2/D\n",
    "    var_yt = u_2/D\n",
    "    \n",
    "    return np.array([slope, y_intr, var_sl, var_yt])\n",
    "\n",
    "#the linear relation between lambda and the energy levels\n",
    "x = n_trans/m\n",
    "y = 1/(d*y1)\n",
    "yerr = sig_y\n",
    "\n",
    "print('x data points: %s'%x)\n",
    "print('y data points: %s'%y)\n",
    "print('y-error data points: %s'%yerr)\n",
    "\n",
    "rs = linfit(x, y, yerr)\n",
    "print(\"results\")\n",
    "print(\"slope = %.3f +/- %.3f\"%(rs[0], rs[2]**0.5))\n",
    "print(\"intercept = %.3f +/- %.3f\"%(rs[1], rs[3]**0.5))\n",
    "\n",
    "print(\"Part (b) complete\")\n",
    "print('')\n",
    "print(\"Part (c) we shall plot our results\")\n",
    "import matplotlib.pyplot as plt\n",
    "\n",
    "fig = plt.figure()\n",
    "plt.errorbar(x, y, yerr = yerr, fmt='.', label='resistor potential')\n",
    "smpl_x = np.linspace(0, 0.25, 41)\n",
    "\n",
    "f_x = rs[1] + (rs[0] * smpl_x)\n",
    "plt.plot(smpl_x, f_x, '--', label='Linear-fit')\n",
    "plt.grid(True)\n",
    "plt.title('Obs. angle V. 1/n^2')\n",
    "plt.legend()\n",
    "plt.xlabel(r'(\\Delta 1/n^2$) / m')\n",
    "plt.ylabel('(lambda *m)^-1')\n",
    "plt.show()\n",
    "#fig.savefig('I_V_hw3_ex.png')\n",
    "\n",
    "print(\"Problem 2 complete\")"
   ]
  },
  {
   "cell_type": "code",
   "execution_count": 37,
   "metadata": {},
   "outputs": [
    {
     "data": {
      "text/plain": [
       "-0.0065304121999845881"
      ]
     },
     "execution_count": 37,
     "metadata": {},
     "output_type": "execute_result"
    }
   ],
   "source": [
    "(rs[0] - 10973731.6)/10973731.6"
   ]
  },
  {
   "cell_type": "code",
   "execution_count": 8,
   "metadata": {},
   "outputs": [
    {
     "data": {
      "text/plain": [
       "array([ 0.21      ,  0.1875    ,  0.13888889])"
      ]
     },
     "execution_count": 8,
     "metadata": {},
     "output_type": "execute_result"
    }
   ],
   "source": [
    "n_trans"
   ]
  },
  {
   "cell_type": "code",
   "execution_count": 55,
   "metadata": {},
   "outputs": [
    {
     "data": {
      "text/plain": [
       "array([ 0.13060875,  0.14718938,  0.19780392])"
      ]
     },
     "execution_count": 55,
     "metadata": {},
     "output_type": "execute_result"
    }
   ],
   "source": [
    "arg(h_angl-ref[0:3])"
   ]
  },
  {
   "cell_type": "code",
   "execution_count": null,
   "metadata": {
    "collapsed": true
   },
   "outputs": [],
   "source": []
  }
 ],
 "metadata": {
  "kernelspec": {
   "display_name": "Python 3",
   "language": "python",
   "name": "python3"
  },
  "language_info": {
   "codemirror_mode": {
    "name": "ipython",
    "version": 3
   },
   "file_extension": ".py",
   "mimetype": "text/x-python",
   "name": "python",
   "nbconvert_exporter": "python",
   "pygments_lexer": "ipython3",
   "version": "3.6.1"
  }
 },
 "nbformat": 4,
 "nbformat_minor": 2
}
