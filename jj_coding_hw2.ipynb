{
 "cells": [
  {
   "cell_type": "markdown",
   "metadata": {},
   "source": [
    "## Homework1 Phys 133\n",
    "Jesus Javier Serrano\n",
    "7/9/18\n",
    "\n",
    "### Note\n",
    "There is an extracurricular program provided for the primes section which may take more time than usual to compile.\n",
    "\n",
    "### Problem 1\n",
    "\n",
    "To begin with we shall compile some warmup code. Below are a few exercises that show that basic capabilities of python."
   ]
  },
  {
   "cell_type": "code",
   "execution_count": 1,
   "metadata": {},
   "outputs": [
    {
     "name": "stdout",
     "output_type": "stream",
     "text": [
      "Problem 1:\n",
      "\n",
      "hello world\n",
      "part a done\n",
      "part b done\n",
      "0\n",
      "part c done\n",
      "y[1] represents: 0.204081632653\n",
      "y[0] represents: 0.0\n",
      "y[-1] represents: 10.0\n",
      "y[1:5] represents: [ 0.20408163  0.40816327  0.6122449   0.81632653]\n",
      "y[5:] represents: [  1.02040816   1.2244898    1.42857143   1.63265306   1.83673469\n",
      "   2.04081633   2.24489796   2.44897959   2.65306122   2.85714286\n",
      "   3.06122449   3.26530612   3.46938776   3.67346939   3.87755102\n",
      "   4.08163265   4.28571429   4.48979592   4.69387755   4.89795918\n",
      "   5.10204082   5.30612245   5.51020408   5.71428571   5.91836735\n",
      "   6.12244898   6.32653061   6.53061224   6.73469388   6.93877551\n",
      "   7.14285714   7.34693878   7.55102041   7.75510204   7.95918367\n",
      "   8.16326531   8.36734694   8.57142857   8.7755102    8.97959184\n",
      "   9.18367347   9.3877551    9.59183673   9.79591837  10.        ]\n",
      "part d done\n",
      "[False False False False False False False False False False False False\n",
      " False False False  True  True  True  True  True  True  True  True  True\n",
      "  True  True  True  True  True  True  True  True  True  True  True  True\n",
      "  True  True  True  True  True  True  True  True  True  True  True  True\n",
      "  True  True]\n",
      "[  3.06122449   3.26530612   3.46938776   3.67346939   3.87755102\n",
      "   4.08163265   4.28571429   4.48979592   4.69387755   4.89795918\n",
      "   5.10204082   5.30612245   5.51020408   5.71428571   5.91836735\n",
      "   6.12244898   6.32653061   6.53061224   6.73469388   6.93877551\n",
      "   7.14285714   7.34693878   7.55102041   7.75510204   7.95918367\n",
      "   8.16326531   8.36734694   8.57142857   8.7755102    8.97959184\n",
      "   9.18367347   9.3877551    9.59183673   9.79591837  10.        ]\n",
      "result of y[y>3] as input: [  3.06122449   3.26530612   3.46938776   3.67346939   3.87755102\n",
      "   4.08163265   4.28571429   4.48979592   4.69387755   4.89795918\n",
      "   5.10204082   5.30612245   5.51020408   5.71428571   5.91836735\n",
      "   6.12244898   6.32653061   6.53061224   6.73469388   6.93877551\n",
      "   7.14285714   7.34693878   7.55102041   7.75510204   7.95918367\n",
      "   8.16326531   8.36734694   8.57142857   8.7755102    8.97959184\n",
      "   9.18367347   9.3877551    9.59183673   9.79591837  10.        ]\n",
      "part e done\n",
      "[  0  17  64 141]\n",
      "If b has a different length than a then we reach an error since two arrays with different lengths can not be related within a function\n",
      "part f done\n",
      "14\n",
      "14.352\n",
      "1.4352e+01\n",
      "00014\n",
      "part g done\n",
      "7.290000000000001\n",
      "part h done\n"
     ]
    }
   ],
   "source": [
    "print(\"Problem 1:\")\n",
    "print('')\n",
    "#part a:\n",
    "\n",
    "print(\"hello world\")\n",
    "print(\"part a done\")\n",
    "#part b:\n",
    "\n",
    "import numpy as np\n",
    "print('part b done')\n",
    "#part c:\n",
    "\n",
    "x = 5\n",
    "x = x**2 - 25\n",
    "print(x)\n",
    "print('part c done')\n",
    "#part d:\n",
    "\n",
    "y = np.linspace(0,10)\n",
    "def inp_arr(h):\n",
    "    g = 'y[%s]'%h\n",
    "    return g\n",
    "\n",
    "find = ['1','0','-1','1:5','5:']\n",
    "#I just set up a loop to print out the comments and arrays for me\n",
    "for i in find:\n",
    "    val = eval(inp_arr(i))\n",
    "    print('%s represents: %s'%(inp_arr(i),val))\n",
    "\n",
    "print('part d done')\n",
    "#part e:\n",
    "\n",
    "mask = (y>3)\n",
    "print (mask)\n",
    "print(y[mask])\n",
    "print('result of y[y>3] as input: %s'%y[y>3])\n",
    "print('part e done')\n",
    "#part f:\n",
    "\n",
    "a = np.array([0,1,2,3])\n",
    "b = np.array([0,15,30,45])\n",
    "print(2*a + a*b)\n",
    "c = np.array([0,12,3])\n",
    "try:\n",
    "    2*a + a*c\n",
    "except ValueError:\n",
    "    print('If b has a different length than a then we reach an error since two arrays with different lengths can not be related within a function')\n",
    "print(\"part f done\")\n",
    "#part g:\n",
    "\n",
    "x = 14.35244\n",
    "find = ['%d', '%.3f','%.4e','%05d']\n",
    "for i in find:\n",
    "    print(i%x)\n",
    "\n",
    "print('part g done')\n",
    "#part h:\n",
    "\n",
    "def myfunc1(p):\n",
    "    y = p**2\n",
    "    return y\n",
    "print(myfunc1(2.7))\n",
    "\n",
    "print('part h done')"
   ]
  },
  {
   "cell_type": "markdown",
   "metadata": {},
   "source": [
    "### Problem 2\n",
    "\n",
    "In this case we shall test an algorithm that provides a linear-fit to any set of data points we provide it. Within this algorithm we shall apply the method of least squares which is derived and discussed in further detail in the P-133 lab manual. The weights being applied to our expectation values are the inverse of the data-point uncertainty. Thus, the two expectation parameters which we shall focus with are:\n",
    "$$U_n = \\sum\\frac{x_i^n}{\\sigma_i^2} = <x^n>\\\\\n",
    "W_n = \\sum\\frac{y_i x_i^n}{\\sigma_i^2} = <y*x^n>$$\n",
    "\n",
    "Our linear-fit function is as follows:"
   ]
  },
  {
   "cell_type": "code",
   "execution_count": 2,
   "metadata": {},
   "outputs": [
    {
     "name": "stdout",
     "output_type": "stream",
     "text": [
      "Part (a) is meant to build the algorithm\n",
      "Part (a) complete\n",
      "Part (b) is shall test the algorithm using the sample data below:\n",
      "x data points: [ 0.  1.  2.  3.  4.  5.]\n",
      "y data points: [ -8.  -12.8 -17.7 -23.3 -27.6 -31.7]\n",
      "y-error data points: [ 0.2 -0.5 -0.9 -1.6 -2.  -2.5]\n",
      "results\n",
      "slope = -4.874 +/- 0.238\n",
      "intercept = -7.994 +/- 0.194\n",
      "Part (b) complete\n",
      "\n",
      "Part (c) we shall plot our results\n"
     ]
    },
    {
     "data": {
      "image/png": "[encoded data removed]",
      "text/plain": [
       "<matplotlib.figure.Figure at 0x2597e761160>"
      ]
     },
     "metadata": {},
     "output_type": "display_data"
    },
    {
     "name": "stdout",
     "output_type": "stream",
     "text": [
      "Problem 2 complete\n"
     ]
    }
   ],
   "source": [
    "print(\"Part (a) is meant to build the algorithm\")\n",
    "\n",
    "#Expectation value of the nth-power of the x-array weighted by the inverse of the y-variance\n",
    "def u(x, sig, n):\n",
    "    tp = x**n\n",
    "    bt = sig**2\n",
    "    ary = tp/bt\n",
    "    return np.sum(ary)\n",
    "\n",
    "#Expectation value of the inner product between the the nth-power of the x-array and the y-array weighted by the inverse of the y-variance\n",
    "def w(x, y, sig, n):\n",
    "    tp = y*(x**n)\n",
    "    bt = sig**2\n",
    "    ary = tp/bt\n",
    "    return np.sum(ary)\n",
    "    \n",
    "#Linear-fit algorithm using least-squares method\n",
    "def linfit(x_data, y_data, y_error):\n",
    "    u_0 = u(x_data, y_error, 0)\n",
    "    u_1 = u(x_data, y_error, 1)\n",
    "    u_2 = u(x_data, y_error, 2)\n",
    "    \n",
    "    w_0 = w(x_data, y_data, y_error, 0)\n",
    "    w_1 = w(x_data, y_data, y_error, 1)\n",
    "    w_2 = w(x_data, y_data, y_error, 2)\n",
    "    \n",
    "    D = (u_0 * u_2) - (u_1 ** 2)\n",
    "    stnd_1 = (u_0 * w_1) - (w_0 * u_1)\n",
    "    stnd_2 = (u_2 * w_0) - (w_1 * u_1)\n",
    "    \n",
    "    slope = stnd_1/D\n",
    "    var_sl = u_0/D\n",
    "    \n",
    "    y_intr = stnd_2/D\n",
    "    var_yt = u_2/D\n",
    "    \n",
    "    return np.array([slope, y_intr, var_sl, var_yt])\n",
    "    \n",
    "print(\"Part (a) complete\")\n",
    "    \n",
    "    \n",
    "print(\"Part (b) is shall test the algorithm using the sample data below:\")\n",
    "\n",
    "x = np.array([ 0., 1., 2., 3., 4., 5.])\n",
    "y = np.array([ -8.0, -12.8, -17.7, -23.3, -27.6, -31.7])\n",
    "yerr = np.array([ 0.2, -0.5, -0.9, -1.6, -2.0, -2.5])\n",
    "\n",
    "print('x data points: %s'%x)\n",
    "print('y data points: %s'%y)\n",
    "print('y-error data points: %s'%yerr)\n",
    "\n",
    "rs = linfit(x, y, yerr)\n",
    "print(\"results\")\n",
    "print(\"slope = %.3f +/- %.3f\"%(rs[0], rs[2]**0.5))\n",
    "print(\"intercept = %.3f +/- %.3f\"%(rs[1], rs[3]**0.5))\n",
    "\n",
    "print(\"Part (b) complete\")\n",
    "print('')\n",
    "print(\"Part (c) we shall plot our results\")\n",
    "import matplotlib.pyplot as plt\n",
    "\n",
    "fig = plt.figure()\n",
    "plt.errorbar(x, y, yerr = yerr, fmt='.', label='Data')\n",
    "smpl_x = np.linspace(0, 10, 31)\n",
    "\n",
    "f_x = rs[1] + (rs[0] * smpl_x)\n",
    "plt.plot(smpl_x, f_x, '--', label='Linear-fit')\n",
    "plt.grid(True)\n",
    "plt.title('Linear fit example')\n",
    "plt.legend()\n",
    "plt.xlabel('Independent Variable')\n",
    "plt.ylabel('Measurement')\n",
    "plt.show()\n",
    "fig.savefig('Linear_fit_ex.png')\n",
    "\n",
    "print(\"Problem 2 complete\")"
   ]
  },
  {
   "cell_type": "markdown",
   "metadata": {},
   "source": [
    "### Problem 3\n",
    "\n",
    "In this problem we shall work with the impedance function of an RLC circuit. Provided that the complex impedance of a circuit for a given frequency is:\n",
    "$$z(\\omega) = \\left(\\frac{1}{R} + \\frac{1}{i\\omega L} + i\\omega C \\right)^{-1}$$\n",
    "\n",
    "Let us now define the impedance as function using python:"
   ]
  },
  {
   "cell_type": "code",
   "execution_count": 3,
   "metadata": {},
   "outputs": [
    {
     "data": {
      "image/png": "[encoded data removed]",
      "text/plain": [
       "<matplotlib.figure.Figure at 0x2597d340c88>"
      ]
     },
     "metadata": {},
     "output_type": "display_data"
    },
    {
     "data": {
      "image/png": "[encoded data removed]",
      "text/plain": [
       "<matplotlib.figure.Figure at 0x2597f81aef0>"
      ]
     },
     "metadata": {},
     "output_type": "display_data"
    }
   ],
   "source": [
    "import numpy as np\n",
    "import matplotlib.pyplot as plt\n",
    "\n",
    "\n",
    "def z(f, R, L, C):\n",
    "    w = 2*np.pi*f\n",
    "    R_ar = np.repeat(R, len(f))\n",
    "    L_ar = np.repeat(L, len(f))\n",
    "    C_ar = np.repeat(C, len(f))\n",
    "    \n",
    "    a = 1/R_ar\n",
    "    b = 1/(1j*w*L_ar)\n",
    "    c = 1j*w*C_ar\n",
    "    \n",
    "    return 1/(a + b + c)\n",
    "\n",
    "freq = np.linspace(1, 20000, 10000)\n",
    "mag1 = abs(z(freq, 2000, 0.005, 300e-9))\n",
    "mag2 = abs(z(freq, 4000, 0.005, 300e-9))\n",
    "\n",
    "fig1 = plt.figure()\n",
    "plt.plot(freq, mag1, 'r-', label='Original setup')\n",
    "plt.plot(freq, mag2, 'b-', label='Double resistance')\n",
    "plt.grid(True)\n",
    "plt.title('RLC Impedance')\n",
    "plt.legend()\n",
    "plt.xlabel('Frequency (Hz)')\n",
    "plt.ylabel('Impedance (Ohms)')\n",
    "plt.show()\n",
    "fig1.savefig('RLC_magnitude_impedance.png')\n",
    "\n",
    "phas1 = np.angle(z(freq, 2000, 0.005, 300e-9))\n",
    "phas2 = np.angle(z(freq, 4000, 0.005, 300e-9))\n",
    "\n",
    "fig2 = plt.figure()\n",
    "plt.plot(freq, phas1, 'r-', label='Original setup')\n",
    "plt.plot(freq, phas2, 'b-', label='Double resistance')\n",
    "plt.grid(True)\n",
    "plt.title('RLC Phase')\n",
    "plt.legend()\n",
    "plt.xlabel('Frequency (Hz)')\n",
    "plt.ylabel('Phase')\n",
    "plt.show()\n",
    "fig2.savefig('RLC_phase.png')"
   ]
  },
  {
   "cell_type": "markdown",
   "metadata": {},
   "source": [
    "From the figures provided we may note that the magnitude impedance resonance peak scales by a factor of 2 when the resistance is doubled. The phase shows no chance in scale or translation between the two different data sets, yet we may note that the corners of the plateau sharpen as the resistance is doubled."
   ]
  },
  {
   "cell_type": "markdown",
   "metadata": {},
   "source": [
    "### Problem 4\n",
    "\n",
    "Now we are going to make a simple number theory algorithm to build a list of prime numbers from 1 to n, where n is a given integer. With the following code below we may be able to track relations between prime numbers, but it might take an infinite amount of time before it provides a notable trace that we may parameterize."
   ]
  },
  {
   "cell_type": "code",
   "execution_count": 4,
   "metadata": {},
   "outputs": [
    {
     "data": {
      "text/plain": [
       "[1,\n",
       " 2,\n",
       " 3,\n",
       " 5,\n",
       " 7,\n",
       " 11,\n",
       " 13,\n",
       " 17,\n",
       " 19,\n",
       " 23,\n",
       " 29,\n",
       " 31,\n",
       " 37,\n",
       " 41,\n",
       " 43,\n",
       " 47,\n",
       " 53,\n",
       " 59,\n",
       " 61,\n",
       " 67,\n",
       " 71,\n",
       " 73,\n",
       " 79,\n",
       " 83,\n",
       " 89,\n",
       " 97]"
      ]
     },
     "execution_count": 4,
     "metadata": {},
     "output_type": "execute_result"
    }
   ],
   "source": [
    "def prime(n):\n",
    "    build = [1,2]\n",
    "    for s in range(2, n + 1):\n",
    "        test = True\n",
    "        #print(s)\n",
    "        for y in build[1:]:\n",
    "            state = s%y\n",
    "            if state == 0:\n",
    "                test = False\n",
    "        #print(test)       \n",
    "        if bool(test)==True:\n",
    "            build.append(s)\n",
    "    return build\n",
    "\n",
    "prime(100)"
   ]
  },
  {
   "cell_type": "markdown",
   "metadata": {},
   "source": [
    "This here is the list of primes from 1 to 100. The only problem with this algorithm is that the compuation time grows exponentially the higher n is."
   ]
  },
  {
   "cell_type": "code",
   "execution_count": 12,
   "metadata": {},
   "outputs": [
    {
     "data": {
      "image/png": "[encoded data removed]",
      "text/plain": [
       "<matplotlib.figure.Figure at 0x21af72fa240>"
      ]
     },
     "metadata": {},
     "output_type": "display_data"
    }
   ],
   "source": [
    "import timeit as tmt\n",
    "import time\n",
    "import numpy as np\n",
    "import matplotlib.pyplot as plt\n",
    "\n",
    "test_n = np.arange(1,6, 1)\n",
    "time_int = np.empty(len(test_n))\n",
    "\n",
    "\n",
    "def prime(n):\n",
    "    build = [1,2]\n",
    "    for s in range(2, n + 1):\n",
    "        test = True\n",
    "        #print(s)\n",
    "        for y in build[1:]:\n",
    "            state = s%y\n",
    "            if state == 0:\n",
    "                test = False\n",
    "        #print(test)       \n",
    "        if bool(test)==True:\n",
    "            build.append(s)\n",
    "    return build\n",
    "\n",
    "\n",
    "for s in test_n:\n",
    "    start = time.time()\n",
    "    g = prime(int(10**s))\n",
    "    end = time.time()\n",
    "    interval = end - start\n",
    "    time_int[s-1] = interval\n",
    "    \n",
    "\n",
    "fig = plt.figure()\n",
    "plt.plot(test_n, time_int)\n",
    "plt.grid(True)\n",
    "plt.title('Computational time for prime')\n",
    "plt.xlabel('log of n')\n",
    "plt.ylabel('Time for primes to be found (s)')\n",
    "plt.show()\n",
    "    "
   ]
  },
  {
   "cell_type": "markdown",
   "metadata": {},
   "source": [
    "### Bonus\n",
    "\n",
    "This will be a breif section into exploiting matplotlib modules in order to recreate the spectral lines of the Helium spectra."
   ]
  },
  {
   "cell_type": "code",
   "execution_count": 2,
   "metadata": {},
   "outputs": [
    {
     "data": {
      "image/png": "[encoded data removed]",
      "text/plain": [
       "<matplotlib.figure.Figure at 0x2611e877358>"
      ]
     },
     "metadata": {},
     "output_type": "display_data"
    }
   ],
   "source": [
    "import matplotlib.pyplot as plt\n",
    "import matplotlib.axes as ax\n",
    "\n",
    "Z0 = {'label':r'ZZ',    'degrees':0.  , 'arcmins':0.,   'color':r'#FFFAD2' , 'intensity':1.,  'order':0 }\n",
    "A0 = {'label':r'$A_R$', 'degrees':7.5 , 'arcmins':5.,   'color':r'#2231ff' , 'intensity':.8,  'order':1 }\n",
    "A1 = {'label':r'$A_L$', 'degrees':-7.5, 'arcmins':-5.,  'color':r'#2231ff' , 'intensity':.8,  'order':1 }\n",
    "B0 = {'label':r'$B_R$', 'degrees':7.5 , 'arcmins':29.,  'color':r'#1845e6' , 'intensity':.6,  'order':1 }\n",
    "B1 = {'label':r'$B_L$', 'degrees':-7.5, 'arcmins':-29., 'color':r'#1845e6' , 'intensity':.6,  'order':1 }\n",
    "C0 = {'label':r'$C_R$', 'degrees':8.  , 'arcmins':23.,  'color':r'#07d3De' , 'intensity':.7,  'order':1 }\n",
    "C1 = {'label':r'$C_L$', 'degrees':-8. , 'arcmins':-23., 'color':r'#07d3De' , 'intensity':.7,  'order':1 }\n",
    "D0 = {'label':r'$D_R$', 'degrees':8.5 , 'arcmins':0.,   'color':r'#02fffa' , 'intensity':.9,  'order':1 }\n",
    "D1 = {'label':r'$D_L$', 'degrees':-8.5, 'arcmins':-0.,  'color':r'#02fffa' , 'intensity':.9,  'order':1 }\n",
    "E0 = {'label':r'$E_R$', 'degrees':10. , 'arcmins':1.,   'color':r'#FAFF41' , 'intensity':.95, 'order':1 }\n",
    "E1 = {'label':r'$E_L$', 'degrees':-10., 'arcmins':-1.,  'color':r'#FAFF41' , 'intensity':.95, 'order':1 }\n",
    "F0 = {'label':r'$F_R$', 'degrees':11. , 'arcmins':24.,  'color':r'#FF80A9' , 'intensity':.7,  'order':1 }\n",
    "F1 = {'label':r'$F_L$', 'degrees':-11., 'arcmins':-24., 'color':r'#FF80A9' , 'intensity':.7,  'order':1 }\n",
    "G0 = {'label':r'$G_R$', 'degrees':12. , 'arcmins':10.,  'color':r'#DE4C4F' , 'intensity':.6,  'order':1 }\n",
    "G1 = {'label':r'$G_L$', 'degrees':-12., 'arcmins':-10., 'color':r'#DE4C4F' , 'intensity':.6,  'order':1 }\n",
    "\n",
    "lines = [Z0,A0,A1,B0,B1,C0,C1,D0,D1,E0,E1,F0,F1,G0,G1]\n",
    "\n",
    "\n",
    "plt.style.use('dark_background')\n",
    "\n",
    "fig = plt.figure()\n",
    "for data in lines:\n",
    "    lb = data['label']\n",
    "    loc = data['degrees'] + (data['arcmins']/60)\n",
    "    c = data['color']\n",
    "    ints = data['intensity']\n",
    "    #spec_lin = ax.Axes(fig, )\n",
    "    plt.axvline(x=loc, ymin=0, ymax=1, label=lb, color=c, alpha=ints)\n",
    "    \n",
    "plt.yticks([])\n",
    "#plt.legend()\n",
    "plt.show()"
   ]
  },
  {
   "cell_type": "code",
   "execution_count": null,
   "metadata": {
    "collapsed": true
   },
   "outputs": [],
   "source": []
  },
  {
   "cell_type": "code",
   "execution_count": null,
   "metadata": {
    "collapsed": true
   },
   "outputs": [],
   "source": []
  }
 ],
 "metadata": {
  "kernelspec": {
   "display_name": "Python 3",
   "language": "python",
   "name": "python3"
  },
  "language_info": {
   "codemirror_mode": {
    "name": "ipython",
    "version": 3
   },
   "file_extension": ".py",
   "mimetype": "text/x-python",
   "name": "python",
   "nbconvert_exporter": "python",
   "pygments_lexer": "ipython3",
   "version": "3.6.1"
  }
 },
 "nbformat": 4,
 "nbformat_minor": 2
}
